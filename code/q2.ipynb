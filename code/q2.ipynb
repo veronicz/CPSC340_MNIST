{
 "cells": [
  {
   "cell_type": "code",
   "execution_count": 1,
   "metadata": {},
   "outputs": [],
   "source": [
    "import numpy as np\n",
    "import pickle\n",
    "from tensorflow.keras.layers import GlobalMaxPooling2D\n",
    "from tensorflow.keras.models import Model\n",
    "from tensorflow.keras.applications.inception_v3 import InceptionV3"
   ]
  },
  {
   "cell_type": "code",
   "execution_count": 2,
   "metadata": {},
   "outputs": [],
   "source": [
    "train_imgs = pickle.load(open(\"train_images_512.pk\",'rb'), encoding='bytes')\n",
    "train_labels = pickle.load(open(\"train_labels_512.pk\",'rb'), encoding='bytes')\n",
    "test_imgs = pickle.load(open(\"test_images_512.pk\",'rb'), encoding='bytes')    "
   ]
  },
  {
   "cell_type": "code",
   "execution_count": 3,
   "metadata": {},
   "outputs": [],
   "source": [
    "base_inception = InceptionV3(weights='imagenet', include_top=False, input_shape=(512, 512, 3))\n",
    "base_inception.trainable = False\n",
    "feature_extractor = Model(inputs=base_inception.input, outputs=GlobalMaxPooling2D()(base_inception.output))"
   ]
  },
  {
   "cell_type": "code",
   "execution_count": 4,
   "metadata": {},
   "outputs": [
    {
     "name": "stdout",
     "output_type": "stream",
     "text": [
      "CPU times: user 1min 26s, sys: 11.4 s, total: 1min 38s\n",
      "Wall time: 18.4 s\n"
     ]
    }
   ],
   "source": [
    "%%time\n",
    "X_train = np.swapaxes(train_imgs.numpy(), 1, -1)\n",
    "Z_train = feature_extractor.predict(X_train)\n",
    "y_train = train_labels.numpy()\n",
    "\n",
    "X_test = np.swapaxes(test_imgs.numpy(), 1, -1)\n",
    "Z_test = feature_extractor.predict(X_test)"
   ]
  },
  {
   "cell_type": "code",
   "execution_count": 5,
   "metadata": {},
   "outputs": [],
   "source": [
    "from sklearn.model_selection import GridSearchCV\n",
    "\n",
    "def optimize(model, parameter_space):\n",
    "    clf = GridSearchCV(model, parameter_space, scoring='f1', cv=5, n_jobs=-1)\n",
    "    clf.fit(Z_train, y_train)\n",
    "    return clf.best_estimator_, clf.best_score_, clf.best_params_"
   ]
  },
  {
   "cell_type": "code",
   "execution_count": 6,
   "metadata": {},
   "outputs": [],
   "source": [
    "from sklearn.svm import SVC\n",
    "from sklearn.neighbors import KNeighborsClassifier\n",
    "\n",
    "def optimizeSVC():\n",
    "    parameter_space = {\n",
    "    'kernel': ['rbf', 'linear', 'poly'],\n",
    "    'C': [0.05, 1, 10, 50, 100, 200],\n",
    "    'gamma': ['scale', 'auto'],\n",
    "    'class_weight': ['balanced', None],\n",
    "    'degree': [2, 3, 4, 5, 6]\n",
    "    }\n",
    "    return optimize(SVC(probability=True), parameter_space)\n",
    "\n",
    "def optimizeKNN():\n",
    "    parameter_space = {\n",
    "        'n_neighbors': [1, 2, 3, 4, 5],\n",
    "        'weights': ['uniform', 'distance']\n",
    "    }\n",
    "    return optimize(KNeighborsClassifier(), parameter_space)"
   ]
  },
  {
   "cell_type": "code",
   "execution_count": 7,
   "metadata": {},
   "outputs": [
    {
     "name": "stdout",
     "output_type": "stream",
     "text": [
      "CPU times: user 2.43 s, sys: 275 ms, total: 2.71 s\n",
      "Wall time: 13.5 s\n"
     ]
    }
   ],
   "source": [
    "%%time\n",
    "svc_model, svc_score, svc_params = optimizeSVC()\n",
    "knn_model, knn_score, knn_params = optimizeKNN()"
   ]
  },
  {
   "cell_type": "code",
   "execution_count": 8,
   "metadata": {},
   "outputs": [
    {
     "name": "stdout",
     "output_type": "stream",
     "text": [
      "[False False  True  True  True  True  True False  True  True  True False\n",
      " False  True  True False  True  True  True  True]\n"
     ]
    }
   ],
   "source": [
    "from sklearn.ensemble import RandomForestClassifier, VotingClassifier\n",
    "\n",
    "eclf = VotingClassifier(estimators=[('svc', svc_model), ('knn', knn_model)])\n",
    "eclf = eclf.fit(Z_train, y_train)\n",
    "print(eclf.predict(Z_test).astype(bool))"
   ]
  }
 ],
 "metadata": {
  "kernelspec": {
   "display_name": "Python 3",
   "language": "python",
   "name": "python3"
  },
  "language_info": {
   "codemirror_mode": {
    "name": "ipython",
    "version": 3
   },
   "file_extension": ".py",
   "mimetype": "text/x-python",
   "name": "python",
   "nbconvert_exporter": "python",
   "pygments_lexer": "ipython3",
   "version": "3.7.4"
  }
 },
 "nbformat": 4,
 "nbformat_minor": 2
}
